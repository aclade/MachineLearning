{
 "cells": [
  {
   "cell_type": "markdown",
   "metadata": {},
   "source": [
    "# RANDOM GAME ĐOÁN BI "
   ]
  },
  {
   "cell_type": "code",
   "execution_count": 1,
   "metadata": {},
   "outputs": [],
   "source": [
    "import numpy as np\n",
    "import random\n",
    "import time\n",
    "from xlwt import Workbook"
   ]
  },
  {
   "cell_type": "code",
   "execution_count": 2,
   "metadata": {},
   "outputs": [],
   "source": [
    "wb = Workbook()\n",
    "sheet1 =  wb.add_sheet('Sheet 1')\n",
    "ptd = [0, 0, 0,0,0,0, 0,0,0]\n",
    "for x in range(1, 285001):\n",
    "    tam = 0\n",
    "    redball = 0\n",
    "    for i in range(1, 6):\n",
    "        tam = random.randint(1, 12)\n",
    "        if (tam > 7) :\n",
    "            redball += 1\n",
    "    ptd[redball] += 1 \n",
    "for i in range(0,6):\n",
    "    sheet1.write(i,1,ptd[i])\n",
    "wb.save('new.xls')"
   ]
  }
 ],
 "metadata": {
  "kernelspec": {
   "display_name": "Python 3.11.0 64-bit",
   "language": "python",
   "name": "python3"
  },
  "language_info": {
   "codemirror_mode": {
    "name": "ipython",
    "version": 3
   },
   "file_extension": ".py",
   "mimetype": "text/x-python",
   "name": "python",
   "nbconvert_exporter": "python",
   "pygments_lexer": "ipython3",
   "version": "3.11.0"
  },
  "orig_nbformat": 4,
  "vscode": {
   "interpreter": {
    "hash": "839e0350e26a03edc91ebdedcb53fe8f541802bd102f926973002a967871fd0c"
   }
  }
 },
 "nbformat": 4,
 "nbformat_minor": 2
}
