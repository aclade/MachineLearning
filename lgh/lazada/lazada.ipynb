{
 "cells": [
  {
   "cell_type": "markdown",
   "metadata": {},
   "source": [
    "# LAZADA"
   ]
  },
  {
   "cell_type": "code",
   "execution_count": 12,
   "metadata": {},
   "outputs": [],
   "source": [
    "from urllib.request import urlopen\n",
    "import urllib.request as urllib2\n",
    "from urllib.error import HTTPError\n",
    "from bs4 import BeautifulSoup, SoupStrainer\n",
    "import numpy as np\n",
    "import pandas as pd\n",
    "import concurrent.futures\n",
    "from multiprocessing import Pool\n",
    "import requests\n",
    "import json\n",
    "from selenium import webdriver\n",
    "from selenium.common.exceptions import *\n",
    "import matplotlib.pyplot as plt\n",
    "import seaborn as sns\n",
    "from selenium.webdriver.common.by import By"
   ]
  },
  {
   "cell_type": "code",
   "execution_count": 129,
   "metadata": {},
   "outputs": [
    {
     "name": "stderr",
     "output_type": "stream",
     "text": [
      "C:\\Users\\ptd\\AppData\\Local\\Temp\\ipykernel_14216\\2499080262.py:2: DeprecationWarning: use options instead of chrome_options\n",
      "  browser = webdriver.Chrome(executable_path='chromedriver', chrome_options=options)\n"
     ]
    }
   ],
   "source": [
    "options = webdriver.ChromeOptions()\n",
    "browser = webdriver.Chrome(executable_path='chromedriver', chrome_options=options)\n",
    "browser.get('https://www.lazada.vn/')\n",
    "search_box = browser.find_element(\"name\", \"q\")\n",
    "search_box.send_keys('tiểu thuyết')\n",
    "search_box.submit()"
   ]
  },
  {
   "cell_type": "code",
   "execution_count": 117,
   "metadata": {},
   "outputs": [],
   "source": [
    "lon = []\n",
    "lop = []\n",
    "loun = []"
   ]
  },
  {
   "cell_type": "code",
   "execution_count": 124,
   "metadata": {},
   "outputs": [],
   "source": [
    "temp = browser.find_elements(By.XPATH,\"//div[@class='RfADt']//a[@age='0']\")\n",
    "for ptd in temp:\n",
    "    lon.append(ptd.text)\n",
    "    loun.append(ptd.get_attribute('href'))\n",
    "temp = browser.find_elements(By.XPATH,\"//span[@class='ooOxS']\")\n",
    "for ptd in temp:\n",
    "    lop.append(ptd.text)"
   ]
  },
  {
   "cell_type": "code",
   "execution_count": 128,
   "metadata": {},
   "outputs": [],
   "source": [
    "nextpage = browser.find_element(By.XPATH,\"//li[@title='Next Page']//button[@class='ant-pagination-item-link']\")\n",
    "nextpage.click()"
   ]
  },
  {
   "cell_type": "code",
   "execution_count": 106,
   "metadata": {},
   "outputs": [
    {
     "data": {
      "text/plain": [
       "4040"
      ]
     },
     "execution_count": 106,
     "metadata": {},
     "output_type": "execute_result"
    }
   ],
   "source": [
    "len(loun)"
   ]
  },
  {
   "cell_type": "code",
   "execution_count": 107,
   "metadata": {},
   "outputs": [],
   "source": [
    "dict_pro={\"Ten\": lon,\"Gia \": lop,\"Link\":loun}"
   ]
  },
  {
   "cell_type": "code",
   "execution_count": 108,
   "metadata": {},
   "outputs": [],
   "source": [
    "df=pd.DataFrame(dict_pro)"
   ]
  },
  {
   "cell_type": "code",
   "execution_count": 109,
   "metadata": {},
   "outputs": [
    {
     "data": {
      "text/html": [
       "<div>\n",
       "<style scoped>\n",
       "    .dataframe tbody tr th:only-of-type {\n",
       "        vertical-align: middle;\n",
       "    }\n",
       "\n",
       "    .dataframe tbody tr th {\n",
       "        vertical-align: top;\n",
       "    }\n",
       "\n",
       "    .dataframe thead th {\n",
       "        text-align: right;\n",
       "    }\n",
       "</style>\n",
       "<table border=\"1\" class=\"dataframe\">\n",
       "  <thead>\n",
       "    <tr style=\"text-align: right;\">\n",
       "      <th></th>\n",
       "      <th>Ten</th>\n",
       "      <th>Gia</th>\n",
       "      <th>Link</th>\n",
       "    </tr>\n",
       "  </thead>\n",
       "  <tbody>\n",
       "    <tr>\n",
       "      <th>0</th>\n",
       "      <td>Sách Tô Màu - Tô Bình Yên - Vẽ Hạnh Phúc - Kulzsc</td>\n",
       "      <td>₫88,000</td>\n",
       "      <td>https://www.lazada.vn/products/sach-to-mau-to-...</td>\n",
       "    </tr>\n",
       "    <tr>\n",
       "      <th>1</th>\n",
       "      <td>Sách - Thất Tịch Không Mưa</td>\n",
       "      <td>₫35,567</td>\n",
       "      <td>https://www.lazada.vn/products/sach-that-tich-...</td>\n",
       "    </tr>\n",
       "    <tr>\n",
       "      <th>2</th>\n",
       "      <td>Sách TIỂU THUYẾT ĐAM MỸ - Tình Đầu Chọn Tôi, T...</td>\n",
       "      <td>₫140,270</td>\n",
       "      <td>https://www.lazada.vn/products/sach-tieu-thuye...</td>\n",
       "    </tr>\n",
       "    <tr>\n",
       "      <th>3</th>\n",
       "      <td>SÁCH TIỂU THUYẾT ĐAM MỸ - TẬP 1 Roses And Cham...</td>\n",
       "      <td>₫147,420</td>\n",
       "      <td>https://www.lazada.vn/products/sach-tieu-thuye...</td>\n",
       "    </tr>\n",
       "    <tr>\n",
       "      <th>4</th>\n",
       "      <td>Fahasa - Thiên Quan Tứ Phúc - Tập 3</td>\n",
       "      <td>₫116,000</td>\n",
       "      <td>https://www.lazada.vn/products/fahasa-thien-qu...</td>\n",
       "    </tr>\n",
       "    <tr>\n",
       "      <th>...</th>\n",
       "      <td>...</td>\n",
       "      <td>...</td>\n",
       "      <td>...</td>\n",
       "    </tr>\n",
       "    <tr>\n",
       "      <th>4035</th>\n",
       "      <td>Sachnguyetlinh - Tội Ác Và Hình Phạt - Tác Giả...</td>\n",
       "      <td>₫145,000</td>\n",
       "      <td>https://www.lazada.vn/products/sachnguyetlinh-...</td>\n",
       "    </tr>\n",
       "    <tr>\n",
       "      <th>4036</th>\n",
       "      <td>Sách Confessions of a Shopaholic (Shopaholic S...</td>\n",
       "      <td>₫100,000</td>\n",
       "      <td>https://www.lazada.vn/products/sach-confession...</td>\n",
       "    </tr>\n",
       "    <tr>\n",
       "      <th>4037</th>\n",
       "      <td>Sách - Yêu Anh Hơn Cả Tử Thần - Tào Đình</td>\n",
       "      <td>₫78,000</td>\n",
       "      <td>https://www.lazada.vn/products/sach-yeu-anh-ho...</td>\n",
       "    </tr>\n",
       "    <tr>\n",
       "      <th>4038</th>\n",
       "      <td>Sách - Chuyện tình thanh xuân bi hài của tôi q...</td>\n",
       "      <td>₫101,000</td>\n",
       "      <td>https://www.lazada.vn/products/sach-chuyen-tin...</td>\n",
       "    </tr>\n",
       "    <tr>\n",
       "      <th>4039</th>\n",
       "      <td>Sách - Mèo Mốc: Ơ, sinh nhật rồi này [SKYBOOKS]</td>\n",
       "      <td>₫83,300</td>\n",
       "      <td>https://www.lazada.vn/products/sach-meo-moc-o-...</td>\n",
       "    </tr>\n",
       "  </tbody>\n",
       "</table>\n",
       "<p>4040 rows × 3 columns</p>\n",
       "</div>"
      ],
      "text/plain": [
       "                                                    Ten      Gia   \\\n",
       "0     Sách Tô Màu - Tô Bình Yên - Vẽ Hạnh Phúc - Kulzsc   ₫88,000   \n",
       "1                            Sách - Thất Tịch Không Mưa   ₫35,567   \n",
       "2     Sách TIỂU THUYẾT ĐAM MỸ - Tình Đầu Chọn Tôi, T...  ₫140,270   \n",
       "3     SÁCH TIỂU THUYẾT ĐAM MỸ - TẬP 1 Roses And Cham...  ₫147,420   \n",
       "4                   Fahasa - Thiên Quan Tứ Phúc - Tập 3  ₫116,000   \n",
       "...                                                 ...       ...   \n",
       "4035  Sachnguyetlinh - Tội Ác Và Hình Phạt - Tác Giả...  ₫145,000   \n",
       "4036  Sách Confessions of a Shopaholic (Shopaholic S...  ₫100,000   \n",
       "4037           Sách - Yêu Anh Hơn Cả Tử Thần - Tào Đình   ₫78,000   \n",
       "4038  Sách - Chuyện tình thanh xuân bi hài của tôi q...  ₫101,000   \n",
       "4039    Sách - Mèo Mốc: Ơ, sinh nhật rồi này [SKYBOOKS]   ₫83,300   \n",
       "\n",
       "                                                   Link  \n",
       "0     https://www.lazada.vn/products/sach-to-mau-to-...  \n",
       "1     https://www.lazada.vn/products/sach-that-tich-...  \n",
       "2     https://www.lazada.vn/products/sach-tieu-thuye...  \n",
       "3     https://www.lazada.vn/products/sach-tieu-thuye...  \n",
       "4     https://www.lazada.vn/products/fahasa-thien-qu...  \n",
       "...                                                 ...  \n",
       "4035  https://www.lazada.vn/products/sachnguyetlinh-...  \n",
       "4036  https://www.lazada.vn/products/sach-confession...  \n",
       "4037  https://www.lazada.vn/products/sach-yeu-anh-ho...  \n",
       "4038  https://www.lazada.vn/products/sach-chuyen-tin...  \n",
       "4039  https://www.lazada.vn/products/sach-meo-moc-o-...  \n",
       "\n",
       "[4040 rows x 3 columns]"
      ]
     },
     "execution_count": 109,
     "metadata": {},
     "output_type": "execute_result"
    }
   ],
   "source": [
    "df"
   ]
  },
  {
   "cell_type": "code",
   "execution_count": 110,
   "metadata": {},
   "outputs": [],
   "source": [
    "df.to_csv(\"lgh.csv\")"
   ]
  }
 ],
 "metadata": {
  "kernelspec": {
   "display_name": "Python 3.11.0 64-bit",
   "language": "python",
   "name": "python3"
  },
  "language_info": {
   "codemirror_mode": {
    "name": "ipython",
    "version": 3
   },
   "file_extension": ".py",
   "mimetype": "text/x-python",
   "name": "python",
   "nbconvert_exporter": "python",
   "pygments_lexer": "ipython3",
   "version": "3.11.0"
  },
  "orig_nbformat": 4,
  "vscode": {
   "interpreter": {
    "hash": "839e0350e26a03edc91ebdedcb53fe8f541802bd102f926973002a967871fd0c"
   }
  }
 },
 "nbformat": 4,
 "nbformat_minor": 2
}
