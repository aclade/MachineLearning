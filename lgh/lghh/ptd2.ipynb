{
 "cells": [
  {
   "cell_type": "code",
   "execution_count": 89,
   "metadata": {},
   "outputs": [],
   "source": [
    "from urllib.request import urlopen\n",
    "import urllib.request as urllib2\n",
    "from urllib.error import HTTPError\n",
    "from bs4 import BeautifulSoup, SoupStrainer\n",
    "import numpy as np\n",
    "import pandas as pd\n",
    "import concurrent.futures\n",
    "from multiprocessing import Pool\n",
    "import requests\n",
    "from selenium import webdriver\n",
    "from selenium.common.exceptions import *\n",
    "import matplotlib.pyplot as plt\n",
    "import seaborn as sns\n",
    "from selenium.webdriver.common.by import By\n",
    "import argparse\n",
    "from datetime import datetime\n",
    "import os\n",
    "import re\n",
    "import time\n",
    "import argparse\n",
    "from collections import Counter\n",
    "from datetime import datetime\n",
    "import os\n",
    "import regex as re\n",
    "from selenium.webdriver.common.action_chains import ActionChains\n",
    "from selenium.common.exceptions import NoSuchElementException, ElementNotInteractableException, ElementClickInterceptedException, ElementNotVisibleException, StaleElementReferenceException\n",
    "from selenium.webdriver.support.ui import Select\n",
    "from urllib.request import urlopen\n",
    "from urllib.error import HTTPError\n",
    "from selenium.webdriver.common.by import By\n",
    "import pandas as pd\n",
    "import geckodriver_autoinstaller\n",
    "from webdriver_manager.chrome import ChromeDriverManager"
   ]
  },
  {
   "cell_type": "code",
   "execution_count": 106,
   "metadata": {},
   "outputs": [],
   "source": [
    "fhs = pd.read_csv('data_fahasa.csv')\n",
    "gr = pd.read_csv('good_read.csv')\n",
    "rd = pd.read_csv('review_data.csv')"
   ]
  },
  {
   "cell_type": "code",
   "execution_count": 107,
   "metadata": {},
   "outputs": [],
   "source": [
    "def no_accent_vietnamese(s):\n",
    "    s = re.sub('\\xa0',' ',s)\n",
    "    s = re.sub('[áàảãạăắằẳẵặâấầẩẫậ]', 'a', s)\n",
    "    s = re.sub('[ÁÀẢÃẠĂẮẰẲẴẶÂẤẦẨẪẬ]', 'A', s)\n",
    "    s = re.sub('[éèẻẽẹêếềểễệ]', 'e', s)\n",
    "    s = re.sub('[ÉÈẺẼẸÊẾỀỂỄỆ]', 'E', s)\n",
    "    s = re.sub('[óòỏõọôốồổỗộơớờởỡợ]', 'o', s)\n",
    "    s = re.sub('[ÓÒỎÕỌÔỐỒỔỖỘƠỚỜỞỠỢ]', 'O', s)\n",
    "    s = re.sub('[íìỉĩị]', 'i', s)\n",
    "    s = re.sub('[ÍÌỈĨỊ]', 'I', s)\n",
    "    s = re.sub('[úùủũụưứừửữự]', 'u', s)\n",
    "    s = re.sub('[ÚÙỦŨỤƯỨỪỬỮỰ]', 'U', s)\n",
    "    s = re.sub('[ýỳỷỹỵ]', 'y', s)\n",
    "    s = re.sub('[ÝỲỶỸỴ]', 'Y', s)\n",
    "    s = re.sub('đ', 'd', s)\n",
    "    s = re.sub('Đ', 'D', s)\n",
    "    return s\n",
    "\n",
    "def twodtooned(m,kt):\n",
    "    ma = []\n",
    "    for lt in m:\n",
    "        try:\n",
    "            if kt:\n",
    "                ma.append(no_accent_vietnamese(lt))\n",
    "            else:\n",
    "                ma.append(lt)\n",
    "        except:\n",
    "            ma.append('')\n",
    "    return ma\n",
    "\n",
    "list_name = twodtooned(fhs['Ten'],True)\n",
    "temp = twodtooned(rd['name'],True)\n",
    "\n",
    "        "
   ]
  },
  {
   "cell_type": "code",
   "execution_count": 101,
   "metadata": {},
   "outputs": [
    {
     "name": "stdout",
     "output_type": "stream",
     "text": [
      "{'Tua Sach': {1: ['user'], 2: []}}\n"
     ]
    }
   ],
   "source": [
    "my_map = {}\n",
    "my_map['Tua Sach'] = {}\n",
    "my_map['Tua Sach'][1] = []\n",
    "my_map['Tua Sach'][2] = []\n",
    "my_map['Tua Sach'][1].append('user')\n",
    "print(my_map)"
   ]
  },
  {
   "cell_type": "code",
   "execution_count": 102,
   "metadata": {},
   "outputs": [],
   "source": [
    "my_map = {}\n",
    "for tam in rd['name']:\n",
    "    my_map[tam] = {}\n",
    "    for i in range(0,6):\n",
    "        my_map[tam][i] = []\n",
    "\n",
    "for i in range(len(rd['id'])):\n",
    "    try:\n",
    "        my_map[rd['name'][i]][rd['rating'][i]].append(rd['id'][i])\n",
    "    except :\n",
    "        continue"
   ]
  },
  {
   "cell_type": "code",
   "execution_count": 110,
   "metadata": {},
   "outputs": [
    {
     "data": {
      "text/plain": [
       "nan"
      ]
     },
     "execution_count": 110,
     "metadata": {},
     "output_type": "execute_result"
    }
   ],
   "source": [
    "gr['genre'][27]"
   ]
  },
  {
   "cell_type": "code",
   "execution_count": null,
   "metadata": {},
   "outputs": [],
   "source": []
  },
  {
   "cell_type": "code",
   "execution_count": 103,
   "metadata": {},
   "outputs": [
    {
     "name": "stdout",
     "output_type": "stream",
     "text": [
      "nan\n"
     ]
    }
   ],
   "source": [
    "ans = []\n",
    "def find_index(theList,item):\n",
    "    for ind in range(len(theList)):\n",
    "        if item in theList[ind]:\n",
    "            return ind\n",
    "    return 'Not Found' \n",
    "for i in range(len(fhs['Ten'])):\n",
    "    ans.append('')\n",
    "for ptd in my_map:\n",
    "    try:\n",
    "        ans[find_index(list_name,ptd)] =my_map[ptd]\n",
    "    except:\n",
    "        print(ptd)"
   ]
  },
  {
   "cell_type": "code",
   "execution_count": 108,
   "metadata": {},
   "outputs": [],
   "source": [
    "dict_pro={'Ten':fhs['Ten'],'Thong tin':fhs['Thong tin'],'The loai':gr['genre'],'rating-user':ans}\n",
    "df=pd.DataFrame(dict_pro)"
   ]
  },
  {
   "cell_type": "code",
   "execution_count": 109,
   "metadata": {},
   "outputs": [],
   "source": [
    "df.to_csv('something.csv')"
   ]
  }
 ],
 "metadata": {
  "kernelspec": {
   "display_name": "Python 3",
   "language": "python",
   "name": "python3"
  },
  "language_info": {
   "codemirror_mode": {
    "name": "ipython",
    "version": 3
   },
   "file_extension": ".py",
   "mimetype": "text/x-python",
   "name": "python",
   "nbconvert_exporter": "python",
   "pygments_lexer": "ipython3",
   "version": "3.11.0 (main, Oct 24 2022, 18:26:48) [MSC v.1933 64 bit (AMD64)]"
  },
  "orig_nbformat": 4,
  "vscode": {
   "interpreter": {
    "hash": "839e0350e26a03edc91ebdedcb53fe8f541802bd102f926973002a967871fd0c"
   }
  }
 },
 "nbformat": 4,
 "nbformat_minor": 2
}
