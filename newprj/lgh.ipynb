{
 "cells": [
  {
   "cell_type": "code",
   "execution_count": 10,
   "metadata": {},
   "outputs": [],
   "source": [
    "i = 0\n",
    "ans = []\n",
    "for ptd in temp:\n",
    "    if ptd != '':   \n",
    "        while (ptd != lonn[i]):\n",
    "            i+=1 \n",
    "            if (i == len(lon)-1):\n",
    "                break\n",
    "        if (i == len(lon)-1):\n",
    "                break\n",
    "        ans.append(lon[i])\n",
    "            \n",
    "    else:\n",
    "        ans.append('')"
   ]
  },
  {
   "cell_type": "code",
   "execution_count": 11,
   "metadata": {},
   "outputs": [],
   "source": [
    "dict_pro={\"name \":ans}\n",
    "df=pd.DataFrame(dict_pro)"
   ]
  },
  {
   "cell_type": "code",
   "execution_count": 13,
   "metadata": {},
   "outputs": [],
   "source": [
    "df.to_csv(\"lgh.csv\")"
   ]
  },
  {
   "cell_type": "code",
   "execution_count": 6,
   "metadata": {},
   "outputs": [],
   "source": [
    "from urllib.request import urlopen\n",
    "import urllib.request as urllib2\n",
    "from urllib.error import HTTPError\n",
    "from bs4 import BeautifulSoup, SoupStrainer\n",
    "import numpy as np\n",
    "import pandas as pd\n",
    "import concurrent.futures\n",
    "from multiprocessing import Pool\n",
    "import requests\n",
    "from selenium import webdriver\n",
    "from selenium.common.exceptions import *\n",
    "import matplotlib.pyplot as plt\n",
    "import seaborn as sns\n",
    "from selenium.webdriver.common.by import By\n",
    "import argparse\n",
    "from datetime import datetime\n",
    "import os\n",
    "import re\n",
    "import time\n",
    "import argparse\n",
    "from collections import Counter\n",
    "from datetime import datetime\n",
    "import os\n",
    "import regex as re\n",
    "from selenium.webdriver.common.action_chains import ActionChains\n",
    "from selenium.common.exceptions import NoSuchElementException, ElementNotInteractableException, ElementClickInterceptedException, ElementNotVisibleException, StaleElementReferenceException\n",
    "from selenium.webdriver.support.ui import Select\n",
    "from urllib.request import urlopen\n",
    "from urllib.error import HTTPError\n",
    "from selenium.webdriver.common.by import By\n",
    "import pandas as pd\n",
    "import geckodriver_autoinstaller\n",
    "from webdriver_manager.chrome import ChromeDriverManager"
   ]
  }
 ],
 "metadata": {
  "kernelspec": {
   "display_name": "Python 3",
   "language": "python",
   "name": "python3"
  },
  "language_info": {
   "codemirror_mode": {
    "name": "ipython",
    "version": 3
   },
   "file_extension": ".py",
   "mimetype": "text/x-python",
   "name": "python",
   "nbconvert_exporter": "python",
   "pygments_lexer": "ipython3",
   "version": "3.11.0"
  },
  "orig_nbformat": 4,
  "vscode": {
   "interpreter": {
    "hash": "839e0350e26a03edc91ebdedcb53fe8f541802bd102f926973002a967871fd0c"
   }
  }
 },
 "nbformat": 4,
 "nbformat_minor": 2
}
